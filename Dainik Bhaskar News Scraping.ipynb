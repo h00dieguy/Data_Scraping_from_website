{
 "cells": [
  {
   "cell_type": "code",
   "execution_count": 1,
   "metadata": {},
   "outputs": [
    {
     "name": "stdout",
     "output_type": "stream",
     "text": [
      "Select Your State from given list \n",
      " Rules : Your City  : Type in this form \n",
      " 1. rajasthan \n",
      " 2. haryana \n",
      " 3. uttar-pradeshuttar-pradesh\n",
      "आपने पहचान छिपाने के लिए मुझे मां गंगा के हवाले कर दिया था, ये पहचान छिपी रहे, नहीं तो बेटियां आपको माफ नहीं करेंगी; पढ़ें बेटी का खत...|वाराणसी,Varanasi - Dainik Bhaskar https://images.bhaskarassets.com/thumb/191x143/web2images/521/2021/06/17/17_1623917902.gif\n",
      "कानपुर के MLA महेश त्रिवेदी ने PWD अफसरों से कहा- थोड़ा बहुत नमक में दाल का सिस्टम तो रहता है, लेकिन ये नहीं कि पूरी दाल ही पी जाएं|कानपुर,Kanpur - Dainik Bhaskar https://images.bhaskarassets.com/thumb/191x143/web2images/521/2021/06/17/new-project-18_1623921734.jpg\n",
      "गोरखनाथ मंदिर में दरबार लगाने पहुंचे थे CM, बुजुर्ग मौलवी ने आवाज देकर रोका, कहा- आप दो मिनट अकेले में समय दें, कुछ गोपनीय बात करनी है|गोरखपुर,Gorakhpur - Dainik Bhaskar https://images.bhaskarassets.com/thumb/191x143/web2images/521/2021/06/17/17_1623925703.jpg\n"
     ]
    }
   ],
   "source": [
    "import requests\n",
    "from bs4 import BeautifulSoup\n",
    "import os\n",
    "\n",
    "state = (str(input(\"Select Your State from given list \\n Rules : Your City  : Type in this form \\n 1. rajasthan \\n 2. haryana \\n 3. uttar-pradesh\")))\n",
    "\n",
    "url = ('https://www.bhaskar.com/mera-shaher/local/')\n",
    "\n",
    "main_url = (url+state)\n",
    "\n",
    "r = requests.get(main_url)\n",
    " \n",
    "soup = BeautifulSoup(r.text, 'html.parser')\n",
    "\n",
    "images = soup.find_all('img', class_='_356e3ed4 c41915f3')\n",
    "count = 0\n",
    "for image in images:\n",
    "    name = image['alt']\n",
    "    link = image['src']\n",
    "    count+=1\n",
    "    if(count<4):\n",
    "        print(name, link)\n",
    "    else:\n",
    "        pass\n",
    "    "
   ]
  },
  {
   "cell_type": "code",
   "execution_count": null,
   "metadata": {},
   "outputs": [],
   "source": []
  },
  {
   "cell_type": "code",
   "execution_count": null,
   "metadata": {},
   "outputs": [],
   "source": []
  }
 ],
 "metadata": {
  "kernelspec": {
   "display_name": "Python 3",
   "language": "python",
   "name": "python3"
  },
  "language_info": {
   "codemirror_mode": {
    "name": "ipython",
    "version": 3
   },
   "file_extension": ".py",
   "mimetype": "text/x-python",
   "name": "python",
   "nbconvert_exporter": "python",
   "pygments_lexer": "ipython3",
   "version": "3.7.3"
  }
 },
 "nbformat": 4,
 "nbformat_minor": 2
}
