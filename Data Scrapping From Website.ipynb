{
 "cells": [
  {
   "cell_type": "code",
   "execution_count": 1,
   "metadata": {},
   "outputs": [
    {
     "name": "stdout",
     "output_type": "stream",
     "text": [
      "HI\n"
     ]
    }
   ],
   "source": [
    "print(\"HI\")"
   ]
  },
  {
   "cell_type": "code",
   "execution_count": 2,
   "metadata": {},
   "outputs": [
    {
     "name": "stdout",
     "output_type": "stream",
     "text": [
      "Collecting opencv-python\n",
      "  Downloading https://files.pythonhosted.org/packages/1f/cc/68ed4738eafbb22e0015490a823eff96359fef92da941efbb943c09ef132/opencv_python-4.5.2.54-cp37-cp37m-win_amd64.whl (34.7MB)\n",
      "Requirement already satisfied: numpy>=1.14.5 in c:\\programdata\\anaconda3\\lib\\site-packages (from opencv-python) (1.16.2)\n",
      "Installing collected packages: opencv-python\n",
      "Successfully installed opencv-python-4.5.2.54\n",
      "Note: you may need to restart the kernel to use updated packages.\n"
     ]
    }
   ],
   "source": [
    "pip install opencv-python"
   ]
  },
  {
   "cell_type": "code",
   "execution_count": 2,
   "metadata": {},
   "outputs": [
    {
     "name": "stdout",
     "output_type": "stream",
     "text": [
      "Collecting face_recognition\n",
      "  Using cached https://files.pythonhosted.org/packages/1e/95/f6c9330f54ab07bfa032bf3715c12455a381083125d8880c43cbe76bb3d0/face_recognition-1.3.0-py2.py3-none-any.whl\n",
      "Collecting dlib>=19.7 (from face_recognition)\n",
      "Note: you may need to restart the kernel to use updated packages.\n"
     ]
    },
    {
     "name": "stderr",
     "output_type": "stream",
     "text": [
      "  Retrying (Retry(total=4, connect=None, read=None, redirect=None, status=None)) after connection broken by 'ProtocolError('Connection aborted.', ConnectionResetError(10054, 'An existing connection was forcibly closed by the remote host', None, 10054, None))': /packages/11/93/ec41d6ef7e769977aa08e49441c52276da27859f12dcbf1c6deb96ce5e9f/dlib-19.22.0.tar.gz\n",
      "  Retrying (Retry(total=3, connect=None, read=None, redirect=None, status=None)) after connection broken by 'NewConnectionError('<pip._vendor.urllib3.connection.VerifiedHTTPSConnection object at 0x0000023E4F891710>: Failed to establish a new connection: [Errno 11001] getaddrinfo failed')': /packages/11/93/ec41d6ef7e769977aa08e49441c52276da27859f12dcbf1c6deb96ce5e9f/dlib-19.22.0.tar.gz\n",
      "  Retrying (Retry(total=2, connect=None, read=None, redirect=None, status=None)) after connection broken by 'NewConnectionError('<pip._vendor.urllib3.connection.VerifiedHTTPSConnection object at 0x0000023E4F891D68>: Failed to establish a new connection: [Errno 11001] getaddrinfo failed')': /packages/11/93/ec41d6ef7e769977aa08e49441c52276da27859f12dcbf1c6deb96ce5e9f/dlib-19.22.0.tar.gz\n",
      "  Retrying (Retry(total=1, connect=None, read=None, redirect=None, status=None)) after connection broken by 'NewConnectionError('<pip._vendor.urllib3.connection.VerifiedHTTPSConnection object at 0x0000023E4F891B70>: Failed to establish a new connection: [Errno 11001] getaddrinfo failed')': /packages/11/93/ec41d6ef7e769977aa08e49441c52276da27859f12dcbf1c6deb96ce5e9f/dlib-19.22.0.tar.gz\n",
      "  Retrying (Retry(total=0, connect=None, read=None, redirect=None, status=None)) after connection broken by 'NewConnectionError('<pip._vendor.urllib3.connection.VerifiedHTTPSConnection object at 0x0000023E4F891B38>: Failed to establish a new connection: [Errno 11001] getaddrinfo failed')': /packages/11/93/ec41d6ef7e769977aa08e49441c52276da27859f12dcbf1c6deb96ce5e9f/dlib-19.22.0.tar.gz\n",
      "Could not install packages due to an EnvironmentError: HTTPSConnectionPool(host='files.pythonhosted.org', port=443): Max retries exceeded with url: /packages/11/93/ec41d6ef7e769977aa08e49441c52276da27859f12dcbf1c6deb96ce5e9f/dlib-19.22.0.tar.gz (Caused by NewConnectionError('<pip._vendor.urllib3.connection.VerifiedHTTPSConnection object at 0x0000023E4F891748>: Failed to establish a new connection: [Errno 11001] getaddrinfo failed'))\n",
      "\n"
     ]
    }
   ],
   "source": [
    "pip install face_recognition"
   ]
  },
  {
   "cell_type": "code",
   "execution_count": 2,
   "metadata": {},
   "outputs": [
    {
     "ename": "ModuleNotFoundError",
     "evalue": "No module named 'face_recognition'",
     "output_type": "error",
     "traceback": [
      "\u001b[1;31m---------------------------------------------------------------------------\u001b[0m",
      "\u001b[1;31mModuleNotFoundError\u001b[0m                       Traceback (most recent call last)",
      "\u001b[1;32m<ipython-input-2-ca17cc6b8bdb>\u001b[0m in \u001b[0;36m<module>\u001b[1;34m\u001b[0m\n\u001b[1;32m----> 1\u001b[1;33m \u001b[1;32mimport\u001b[0m \u001b[0mface_recognition\u001b[0m\u001b[1;33m\u001b[0m\u001b[1;33m\u001b[0m\u001b[0m\n\u001b[0m",
      "\u001b[1;31mModuleNotFoundError\u001b[0m: No module named 'face_recognition'"
     ]
    }
   ],
   "source": [
    "import face_recognition"
   ]
  },
  {
   "cell_type": "code",
   "execution_count": 7,
   "metadata": {},
   "outputs": [
    {
     "name": "stdout",
     "output_type": "stream",
     "text": [
      "Download Jiomart App for Android from Play Store https://www.jiomart.com/images/cms/wysiwyg/app-icons/play_store.png\n",
      "Download Jiomart App for iOs from App Store https://www.jiomart.com/images/cms/wysiwyg/app-icons/ios_store.png\n",
      "JioMart, Online Groceries Shop https://www.jiomart.com/assets/version162335126993/smartweb/images/jiomart_logo_beta.svg\n",
      "Atta, Flours & Sooji https://www.jiomart.com/images/category/26/atta-flours-sooji-20200704.jpg\n",
      "Maida 1 kg https://www.jiomart.com/images/product/150x150/491349662/maida-1-kg-0-20210521.jpg\n",
      "Chakki Atta 10 kg https://www.jiomart.com/images/product/150x150/491349660/chakki-atta-10-kg-0-20210301.jpg\n",
      "Chakki Atta 5 kg https://www.jiomart.com/images/product/150x150/491349659/chakki-atta-5-kg-0-20210301.jpg\n",
      "Maida 500 g https://www.jiomart.com/images/product/150x150/491349661/maida-500-g-0-20210521.jpg\n",
      "Besan 500 g https://www.jiomart.com/images/product/150x150/491349648/besan-500-g-0-20210521.jpg\n",
      "Rawa 500 g https://www.jiomart.com/images/product/150x150/491349664/rawa-500-g-0-20210521.jpg\n",
      "Uttam Superfine Maida 500 g https://www.jiomart.com/images/product/150x150/490022110/uttam-superfine-maida-500-g-0-20210302.jpg\n",
      "Uttam Suji 500 g https://www.jiomart.com/images/product/150x150/490022112/uttam-rawa-500-g-0-20210302.jpg\n",
      "Good Life MP Sharbatti Atta 1 kg https://www.jiomart.com/images/product/150x150/491551198/good-life-mp-sharbatti-atta-1-kg-0-20210121.jpg\n",
      "Broken Wheat / Daliya 500 g https://www.jiomart.com/images/product/150x150/491349665/broken-wheat-daliya-500-g-0-20210316.jpg\n"
     ]
    },
    {
     "ename": "FileNotFoundError",
     "evalue": "[Errno 2] No such file or directory: 'Broken Wheat / Daliya 500 g.jpg'",
     "output_type": "error",
     "traceback": [
      "\u001b[1;31m---------------------------------------------------------------------------\u001b[0m",
      "\u001b[1;31mFileNotFoundError\u001b[0m                         Traceback (most recent call last)",
      "\u001b[1;32m<ipython-input-7-e84d500841db>\u001b[0m in \u001b[0;36m<module>\u001b[1;34m\u001b[0m\n\u001b[0;32m     15\u001b[0m     \u001b[0mlink\u001b[0m \u001b[1;33m=\u001b[0m \u001b[0mimage\u001b[0m\u001b[1;33m[\u001b[0m\u001b[1;34m'src'\u001b[0m\u001b[1;33m]\u001b[0m\u001b[1;33m\u001b[0m\u001b[1;33m\u001b[0m\u001b[0m\n\u001b[0;32m     16\u001b[0m     \u001b[0mprint\u001b[0m\u001b[1;33m(\u001b[0m\u001b[0mname\u001b[0m\u001b[1;33m,\u001b[0m \u001b[0mlink\u001b[0m\u001b[1;33m)\u001b[0m\u001b[1;33m\u001b[0m\u001b[1;33m\u001b[0m\u001b[0m\n\u001b[1;32m---> 17\u001b[1;33m     \u001b[1;32mwith\u001b[0m \u001b[0mopen\u001b[0m\u001b[1;33m(\u001b[0m\u001b[0mname\u001b[0m \u001b[1;33m+\u001b[0m \u001b[1;34m'.jpg'\u001b[0m\u001b[1;33m,\u001b[0m\u001b[1;34m'wb'\u001b[0m\u001b[1;33m)\u001b[0m \u001b[1;32mas\u001b[0m \u001b[0mf\u001b[0m\u001b[1;33m:\u001b[0m\u001b[1;33m\u001b[0m\u001b[1;33m\u001b[0m\u001b[0m\n\u001b[0m\u001b[0;32m     18\u001b[0m         \u001b[0mim\u001b[0m \u001b[1;33m=\u001b[0m \u001b[0mrequests\u001b[0m\u001b[1;33m.\u001b[0m\u001b[0mget\u001b[0m\u001b[1;33m(\u001b[0m\u001b[0mlink\u001b[0m\u001b[1;33m)\u001b[0m\u001b[1;33m\u001b[0m\u001b[1;33m\u001b[0m\u001b[0m\n\u001b[0;32m     19\u001b[0m         \u001b[0mf\u001b[0m\u001b[1;33m.\u001b[0m\u001b[0mwrite\u001b[0m\u001b[1;33m(\u001b[0m\u001b[0mim\u001b[0m\u001b[1;33m.\u001b[0m\u001b[0mcontent\u001b[0m\u001b[1;33m)\u001b[0m\u001b[1;33m\u001b[0m\u001b[1;33m\u001b[0m\u001b[0m\n",
      "\u001b[1;31mFileNotFoundError\u001b[0m: [Errno 2] No such file or directory: 'Broken Wheat / Daliya 500 g.jpg'"
     ]
    }
   ],
   "source": [
    "import requests\n",
    "from bs4 import BeautifulSoup\n",
    "import os\n",
    "\n",
    "url = ('https://www.jiomart.com/c/groceries/staples/atta-flours-sooji/26')\n",
    "\n",
    "r = requests.get(url)\n",
    "\n",
    "soup = BeautifulSoup(r.text, 'html.parser')\n",
    "\n",
    "images = soup.find_all('img')\n",
    "\n",
    "for image in images:\n",
    "    name = image['alt']\n",
    "    link = image['src']\n",
    "    print(name, link)"
   ]
  },
  {
   "cell_type": "code",
   "execution_count": 12,
   "metadata": {
    "scrolled": false
   },
   "outputs": [
    {
     "ename": "AttributeError",
     "evalue": "ResultSet object has no attribute 'text'. You're probably treating a list of items like a single item. Did you call find_all() when you meant to call find()?",
     "output_type": "error",
     "traceback": [
      "\u001b[1;31m---------------------------------------------------------------------------\u001b[0m",
      "\u001b[1;31mAttributeError\u001b[0m                            Traceback (most recent call last)",
      "\u001b[1;32m<ipython-input-12-2b100f1c3b01>\u001b[0m in \u001b[0;36m<module>\u001b[1;34m\u001b[0m\n\u001b[0;32m     29\u001b[0m         \u001b[0mprint\u001b[0m\u001b[1;33m(\u001b[0m\u001b[1;33m)\u001b[0m\u001b[1;33m\u001b[0m\u001b[1;33m\u001b[0m\u001b[0m\n\u001b[0;32m     30\u001b[0m \u001b[1;33m\u001b[0m\u001b[0m\n\u001b[1;32m---> 31\u001b[1;33m \u001b[0mimagedown\u001b[0m\u001b[1;33m(\u001b[0m\u001b[1;34m'https://www.jiomart.com/c/groceries/staples/atta-flours-sooji/26'\u001b[0m\u001b[1;33m,\u001b[0m \u001b[1;34m'Atta Price'\u001b[0m\u001b[1;33m)\u001b[0m\u001b[1;33m\u001b[0m\u001b[1;33m\u001b[0m\u001b[0m\n\u001b[0m",
      "\u001b[1;32m<ipython-input-12-2b100f1c3b01>\u001b[0m in \u001b[0;36mimagedown\u001b[1;34m(url, folder)\u001b[0m\n\u001b[0;32m     24\u001b[0m         \u001b[1;32mif\u001b[0m \u001b[1;32mNone\u001b[0m \u001b[1;32min\u001b[0m \u001b[1;33m(\u001b[0m\u001b[0mproduct_name\u001b[0m\u001b[1;33m,\u001b[0m \u001b[0mproduct_discount\u001b[0m\u001b[1;33m,\u001b[0m \u001b[0mproduct_price\u001b[0m\u001b[1;33m)\u001b[0m\u001b[1;33m:\u001b[0m\u001b[1;33m\u001b[0m\u001b[1;33m\u001b[0m\u001b[0m\n\u001b[0;32m     25\u001b[0m             \u001b[1;32mcontinue\u001b[0m\u001b[1;33m\u001b[0m\u001b[1;33m\u001b[0m\u001b[0m\n\u001b[1;32m---> 26\u001b[1;33m         \u001b[0mprint\u001b[0m\u001b[1;33m(\u001b[0m\u001b[0mproduct_name\u001b[0m\u001b[1;33m.\u001b[0m\u001b[0mtext\u001b[0m\u001b[1;33m.\u001b[0m\u001b[0mstrip\u001b[0m\u001b[1;33m(\u001b[0m\u001b[1;33m)\u001b[0m\u001b[1;33m)\u001b[0m\u001b[1;33m\u001b[0m\u001b[1;33m\u001b[0m\u001b[0m\n\u001b[0m\u001b[0;32m     27\u001b[0m         \u001b[0mprint\u001b[0m\u001b[1;33m(\u001b[0m\u001b[0mproduct_discount\u001b[0m\u001b[1;33m.\u001b[0m\u001b[0mtext\u001b[0m\u001b[1;33m.\u001b[0m\u001b[0mstrip\u001b[0m\u001b[1;33m(\u001b[0m\u001b[1;33m)\u001b[0m\u001b[1;33m)\u001b[0m\u001b[1;33m\u001b[0m\u001b[1;33m\u001b[0m\u001b[0m\n\u001b[0;32m     28\u001b[0m         \u001b[0mprint\u001b[0m\u001b[1;33m(\u001b[0m\u001b[0mproduct_price\u001b[0m\u001b[1;33m.\u001b[0m\u001b[0mtext\u001b[0m\u001b[1;33m.\u001b[0m\u001b[0mstrip\u001b[0m\u001b[1;33m(\u001b[0m\u001b[1;33m)\u001b[0m\u001b[1;33m)\u001b[0m\u001b[1;33m\u001b[0m\u001b[1;33m\u001b[0m\u001b[0m\n",
      "\u001b[1;32mC:\\ProgramData\\Anaconda3\\lib\\site-packages\\bs4\\element.py\u001b[0m in \u001b[0;36m__getattr__\u001b[1;34m(self, key)\u001b[0m\n\u001b[0;32m   1618\u001b[0m     \u001b[1;32mdef\u001b[0m \u001b[0m__getattr__\u001b[0m\u001b[1;33m(\u001b[0m\u001b[0mself\u001b[0m\u001b[1;33m,\u001b[0m \u001b[0mkey\u001b[0m\u001b[1;33m)\u001b[0m\u001b[1;33m:\u001b[0m\u001b[1;33m\u001b[0m\u001b[1;33m\u001b[0m\u001b[0m\n\u001b[0;32m   1619\u001b[0m         raise AttributeError(\n\u001b[1;32m-> 1620\u001b[1;33m             \u001b[1;34m\"ResultSet object has no attribute '%s'. You're probably treating a list of items like a single item. Did you call find_all() when you meant to call find()?\"\u001b[0m \u001b[1;33m%\u001b[0m \u001b[0mkey\u001b[0m\u001b[1;33m\u001b[0m\u001b[1;33m\u001b[0m\u001b[0m\n\u001b[0m\u001b[0;32m   1621\u001b[0m         )\n",
      "\u001b[1;31mAttributeError\u001b[0m: ResultSet object has no attribute 'text'. You're probably treating a list of items like a single item. Did you call find_all() when you meant to call find()?"
     ]
    }
   ],
   "source": [
    "import requests\n",
    "from bs4 import BeautifulSoup\n",
    "import os\n",
    "\n",
    "url = ('https://www.jiomart.com/c/groceries/staples/atta-flours-sooji/26')\n",
    "\n",
    "def imagedown(url, folder):\n",
    "    try: \n",
    "        os.mkdir(os.path.join(os.getcwd(), folder))\n",
    "    except: \n",
    "        pass\n",
    "    os.chdir(os.path.join(os.getcwd(), folder))\n",
    "    r = requests.get(url)\n",
    "\n",
    "    soup = BeautifulSoup(r.text, 'html.parser')\n",
    "\n",
    "    products = soup.find_all('div', class_=\"row product-list\")\n",
    "    \n",
    "    for product in products:\n",
    "        product_name = product.find_all('span', class_='clsgetname')\n",
    "        product_discount = product.find_all('span', class_='dis_section')\n",
    "        product_price = product.find_all('span', id_='final_price')\n",
    "        \n",
    "        if None in (product_name, product_discount, product_price):\n",
    "            continue\n",
    "        print(product_name.text.strip())\n",
    "        print(product_discount.text.strip())\n",
    "        print(product_price.text.strip())\n",
    "        print()\n",
    "            \n",
    "imagedown('https://www.jiomart.com/c/groceries/staples/atta-flours-sooji/26', 'Atta Price')"
   ]
  },
  {
   "cell_type": "code",
   "execution_count": 8,
   "metadata": {},
   "outputs": [
    {
     "name": "stdout",
     "output_type": "stream",
     "text": [
      "['https://www.jiomart.com/images/cms/wysiwyg/app-icons/play_store.png', 'https://www.jiomart.com/images/cms/wysiwyg/app-icons/ios_store.png', 'https://www.jiomart.com/assets/version162335126993/smartweb/images/jiomart_logo_beta.svg', 'https://www.jiomart.com/images/category/34/tea-20200712.jpg', 'https://www.jiomart.com/images/product/150x150/491092342/lipton-green-tea-100-g-carton-0-20210511.jpg', 'https://www.jiomart.com/images/product/150x150/490001268/red-label-leaf-tea-250-g-carton-0-20210511.jpg', 'https://www.jiomart.com/images/product/150x150/491586416/aarambh-kadak-tea-500-g-0-20210331.jpg', 'https://www.jiomart.com/images/product/150x150/490967440/red-label-natural-care-tea-250-g-carton-0-20210426.jpg', 'https://www.jiomart.com/images/product/150x150/490001298/society-tea-500-g-0-20201126.jpg', 'https://www.jiomart.com/images/product/150x150/490004179/tata-agni-tea-250-g-0-20210402.jpg', 'https://www.jiomart.com/images/product/150x150/490005069/tata-agni-tea-500-g-0-20210401.jpg', 'https://www.jiomart.com/images/product/150x150/490001992/red-label-leaf-tea-1-kg-0-20210511.jpg', 'https://www.jiomart.com/images/product/150x150/490004181/tata-premium-tea-500-g-0-20210401.jpg', 'https://www.jiomart.com/images/product/150x150/490001816/taj-mahal-leaf-tea-1-kg-0-20210226.jpg', 'https://www.jiomart.com/images/product/150x150/491586417/aarambh-kadak-tea-250-g-0-20201219.jpg', 'https://www.jiomart.com/images/product/150x150/490582715/lipton-pure-light-green-tea-bags-25-pcs-0-20210511.jpg', 'https://www.jiomart.com/images/product/150x150/490005004/taaza-leaf-tea-250-g-0-20210426.jpg', 'https://www.jiomart.com/images/product/150x150/490847027/lipton-clear-citrus-green-tea-bags-25-pcs-carton-0-20210511.jpg', 'https://www.jiomart.com/images/product/150x150/490971706/lipton-darjeeling-leaf-tea-250-g-carton-0-20210226.jpg', 'https://www.jiomart.com/images/product/150x150/490008909/girnar-royal-cup-tea-500-g-0-20201112.jpg', 'https://www.jiomart.com/images/product/150x150/490842559/wagh-bakri-spiced-tea-250-g-0-20210226.jpg', 'https://www.jiomart.com/images/product/150x150/490007434/avt-premium-tea-250-g-0-20210115.jpg', 'https://www.jiomart.com/images/product/150x150/590034160/avt-goldcup-dust-tea-250-g-0-20200907.jpg', 'https://www.jiomart.com/images/product/150x150/490967438/red-label-natural-care-tea-100-g-carton-0-20210426.jpg', 'https://www.jiomart.com/images/cms/wysiwyg/app-icons/play_store.png', 'https://www.jiomart.com/images/cms/wysiwyg/app-icons/ios_store.png', 'https://www.jiomart.com/assets/smartweb/images/delivery_popup_jio.png']\n"
     ]
    }
   ],
   "source": [
    "import requests\n",
    "from bs4 import BeautifulSoup\n",
    "import os\n",
    "\n",
    "url = ('https://www.jiomart.com/c/groceries/beverages/tea/34/page/2')\n",
    "\n",
    "def imagedown(url, folder):\n",
    "    try: \n",
    "        os.mkdir(os.path.join(os.getcwd(), folder))\n",
    "    except: \n",
    "        pass\n",
    "    os.chdir(os.path.join(os.getcwd(), folder))\n",
    "    r = requests.get(url)\n",
    "\n",
    "    soup = BeautifulSoup(r.text, 'html.parser')\n",
    "\n",
    "    images = soup.find_all('img')\n",
    "    image_link = []\n",
    "    \n",
    "    for image in images:\n",
    "        link = image['src']\n",
    "        image_link.append(link)\n",
    "    print(image_link)  \n",
    "    \n",
    "       \n",
    "imagedown('https://www.jiomart.com/c/groceries/beverages/tea/34/page/2', 'Tea Page 2')"
   ]
  },
  {
   "cell_type": "code",
   "execution_count": 2,
   "metadata": {},
   "outputs": [
    {
     "name": "stdout",
     "output_type": "stream",
     "text": [
      "(['Maida 1 kg', ' 56% OFF ', '₹ 35.00', '₹ 80.00'], 'https://www.jiomart.com/images/cms/wysiwyg/app-icons/play_store.png')\n",
      "(['Aashirvaad Whole Wheat Atta 10 kg', ' 15% OFF ', '₹ 379.00', '₹ 450.00'], 'https://www.jiomart.com/images/cms/wysiwyg/app-icons/ios_store.png')\n",
      "(['Aashirvaad Whole Wheat Atta 5 kg', ' 14% OFF ', '₹ 210.00', '₹ 245.00'], 'https://www.jiomart.com/assets/version162335126993/smartweb/images/jiomart_logo_beta.svg')\n",
      "(['Chakki Atta 10 kg', ' 25% OFF ', '₹ 279.00', '₹ 375.00'], 'https://www.jiomart.com/images/category/26/atta-flours-sooji-20200704.jpg')\n",
      "(['Chakki Atta 5 kg', ' 16% OFF ', '₹ 175.00', '₹ 210.00'], 'https://www.jiomart.com/images/product/150x150/491349662/maida-1-kg-0-20210521.jpg')\n",
      "(['Good Life MP Wheat Chakki Atta 5 kg', ' 16% OFF ', '₹ 189.00', '₹ 225.00'], 'https://www.jiomart.com/images/product/150x150/491349660/chakki-atta-10-kg-0-20210301.jpg')\n",
      "(['Nature Fresh Sampoorna Chakki Whole Wheat Atta 10 kg', ' 23% OFF ', '₹ 345.00', '₹ 450.00'], 'https://www.jiomart.com/images/product/150x150/491349659/chakki-atta-5-kg-0-20210301.jpg')\n",
      "(['Maida 500 g', ' 56% OFF ', '₹ 17.50', '₹ 40.00'], 'https://www.jiomart.com/images/product/150x150/491349661/maida-500-g-0-20210521.jpg')\n",
      "(['Besan 500 g', ' 53% OFF ', '₹ 37.00', '₹ 80.00'], 'https://www.jiomart.com/images/product/150x150/491349648/besan-500-g-0-20210521.jpg')\n",
      "(['Rawa 500 g', ' 53% OFF ', '₹ 20.00', '₹ 43.00'], 'https://www.jiomart.com/images/product/150x150/491349664/rawa-500-g-0-20210521.jpg')\n",
      "(['Good Life MP Wheat Chakki Atta 1 kg', ' 22% OFF ', '₹ 39.00', '₹ 50.00'], 'https://www.jiomart.com/images/product/150x150/490022110/uttam-superfine-maida-500-g-0-20210302.jpg')\n",
      "(['Uttam Superfine Maida 500 g', ' 16% OFF ', '₹ 25.00', '₹ 30.00'], 'https://www.jiomart.com/images/product/150x150/490022112/uttam-rawa-500-g-0-20210302.jpg')\n",
      "(['Uttam Suji 500 g', ' 19% OFF ', '₹ 25.00', '₹ 31.00'], 'https://www.jiomart.com/images/product/150x150/491551198/good-life-mp-sharbatti-atta-1-kg-0-20210121.jpg')\n",
      "(['Good Life MP Sharbatti Atta 1 kg', ' 18% OFF ', '₹ 45.00', '₹ 55.00'], 'https://www.jiomart.com/images/product/150x150/491349665/broken-wheat-daliya-500-g-0-20210316.jpg')\n",
      "(['Brahmins Fried Rawa 1 kg', ' 7% OFF ', '₹ 115.32', '₹ 124.00'], 'https://www.jiomart.com/images/product/150x150/491349666/broken-wheat-daliya-1-kg-0-20210316.jpg')\n",
      "(['Brahmins Puttu Podi / Rice Flour 1 kg', ' 7% OFF ', '₹ 106.95', '₹ 115.00'], 'https://www.jiomart.com/images/product/150x150/490022111/uttam-rawa-1-kg-0-20210226.jpg')\n",
      "(['Broken Wheat / Daliya 500 g', ' 50% OFF ', '₹ 25.00', '₹ 50.00'], 'https://www.jiomart.com/images/product/150x150/490022109/uttam-superfine-maida-1-kg-0-20210301.jpg')\n",
      "(['Broken Wheat / Daliya 1 kg', ' 50% OFF ', '₹ 50.00', '₹ 100.00'], 'https://www.jiomart.com/images/product/150x150/491278940/aashirvaad-sugar-release-control-atta-1-kg-0-20210308.jpg')\n",
      "(['24 Mantra Organic Besan 500 g', ' 7% OFF ', '₹ 79.05', '₹ 85.00'], 'https://www.jiomart.com/images/product/150x150/491321805/24-mantra-organic-idli-rawa-500-g-0-20200901.jpg')\n",
      "(['Patanjali Traditional Chakki Whole Wheat With Bran Atta 10 kg', ' 7% OFF ', '₹ 325.50', '₹ 350.00'], 'https://www.jiomart.com/images/product/150x150/491264709/uttam-premium-superfine-besan-500-g-0-20210305.jpg')\n"
     ]
    }
   ],
   "source": [
    "import requests\n",
    "from bs4 import BeautifulSoup\n",
    "import os\n",
    "import pandas as pd\n",
    "import numpy as np\n",
    "\n",
    "url = ('https://www.jiomart.com/c/groceries/staples/atta-flours-sooji/26')\n",
    "\n",
    "def scraping_images(url, folder):\n",
    "    try: \n",
    "        os.mkdir(os.path.join(os.getcwd(), folder))\n",
    "    except: \n",
    "        pass\n",
    "    os.chdir(os.path.join(os.getcwd(), folder))\n",
    "    r = requests.get(url)\n",
    "\n",
    "    soup = BeautifulSoup(r.text, 'html.parser')\n",
    "\n",
    "    images = soup.find_all('img')\n",
    "    image_link = []\n",
    "    \n",
    "    for image in images:\n",
    "        link = image['src']\n",
    "        image_link.append(link)\n",
    "    return image_link  \n",
    "    \n",
    "\n",
    "def imagedown(url, folder):\n",
    "    try: \n",
    "        os.mkdir(os.path.join(os.getcwd(), folder))\n",
    "    except: \n",
    "        pass\n",
    "    os.chdir(os.path.join(os.getcwd(), folder))\n",
    "    r = requests.get(url)\n",
    "\n",
    "    soup = BeautifulSoup(r.text, 'html.parser')\n",
    "\n",
    "    products = soup.find_all('div', class_=\"row product-list\")\n",
    "    \n",
    "    for product in products:\n",
    "        product_name = product.find_all('span', class_='clsgetname')\n",
    "        product_discount = product.find_all('span', class_='dis_section')\n",
    "        product_price = product.find_all('span', id='final_price')\n",
    "        product_mrp = product.find_all('strike', id='price')\n",
    "        product_image = scraping_images('https://www.jiomart.com/c/groceries/staples/atta-flours-sooji/26', 'Atta Price')\n",
    "        \n",
    "        x = list(zip(product_name,product_discount,product_price,product_mrp))\n",
    "   \n",
    "        outer_list = []\n",
    "    \n",
    "        for y in x:\n",
    "            inner_list = []\n",
    "            for z in y:\n",
    "                inner_list.append(z.text)\n",
    "            outer_list.append(inner_list)\n",
    "        \n",
    "            \n",
    "        main_list = list(zip(outer_list, product_image))\n",
    "        for i in main_list:\n",
    "            print(i)\n",
    "            \n",
    "        \n",
    "imagedown('https://www.jiomart.com/c/groceries/staples/atta-flours-sooji/26', 'Atta Price')"
   ]
  },
  {
   "cell_type": "code",
   "execution_count": 4,
   "metadata": {},
   "outputs": [],
   "source": []
  },
  {
   "cell_type": "code",
   "execution_count": null,
   "metadata": {},
   "outputs": [],
   "source": []
  }
 ],
 "metadata": {
  "kernelspec": {
   "display_name": "Python 3",
   "language": "python",
   "name": "python3"
  },
  "language_info": {
   "codemirror_mode": {
    "name": "ipython",
    "version": 3
   },
   "file_extension": ".py",
   "mimetype": "text/x-python",
   "name": "python",
   "nbconvert_exporter": "python",
   "pygments_lexer": "ipython3",
   "version": "3.7.3"
  }
 },
 "nbformat": 4,
 "nbformat_minor": 2
}
